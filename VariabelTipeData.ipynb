{
 "cells": [
  {
   "cell_type": "markdown",
   "id": "5f795fdb",
   "metadata": {},
   "source": [
    "<h1>Variabel dan Tipe Data Python<h1><hr>\n",
    "<forn color=\"blue\">Beberapa</forn> aturan pembuatan variabel di <b>python</b>:\n",
    "    \n",
    "<ol>\n",
    "    <li>Bersifat case sensitif => A != a</li>\n",
    "    <li>harus diawali dengan huruf atau karakter _(underscore)</li>\n",
    "    <li>Tidak boleh menggunakan spasi</li>\n",
    "    <li>Boleh menggunakan angka</li>\n",
    "</ol>   "
   ]
  },
  {
   "cell_type": "code",
   "execution_count": 9,
   "id": "03c04bcf",
   "metadata": {},
   "outputs": [
    {
     "name": "stdout",
     "output_type": "stream",
     "text": [
      "10\n",
      "100.9\n",
      "1\n",
      "True\n"
     ]
    }
   ],
   "source": [
    "data_int = 10\n",
    "data_float = 100.9\n",
    "data_string = '1'\n",
    "data_bool = True\n",
    "\n",
    "print(data_int)\n",
    "print(data_float)\n",
    "print(data_string)\n",
    "print(data_bool)"
   ]
  },
  {
   "cell_type": "markdown",
   "id": "1b5c4402",
   "metadata": {},
   "source": [
    "Untuk mengetahui tipe data dari sebuah variabel gunakan command <b>type</b>"
   ]
  },
  {
   "cell_type": "code",
   "execution_count": 11,
   "id": "dc89ff01",
   "metadata": {},
   "outputs": [
    {
     "name": "stdout",
     "output_type": "stream",
     "text": [
      "<class 'int'>\n",
      "<class 'float'>\n",
      "<class 'str'>\n",
      "<class 'bool'>\n"
     ]
    }
   ],
   "source": [
    "print(type(data_int))\n",
    "print(type(data_float))\n",
    "print(type(data_string))\n",
    "print(type(data_bool))"
   ]
  },
  {
   "cell_type": "markdown",
   "id": "4edc0ab0",
   "metadata": {},
   "source": [
    "Pada phyton terdapat proses <b>CASTING</b> yaitu konversi dari sebuah tipe data ke tipe data yang lain yaitu dengan sintaks <b>tipe_data(nama_variabel)</b>"
   ]
  },
  {
   "cell_type": "code",
   "execution_count": 12,
   "id": "ad75c3d3",
   "metadata": {},
   "outputs": [
    {
     "name": "stdout",
     "output_type": "stream",
     "text": [
      "Nilai variabel data int= 10\n",
      "10.0\n",
      "10\n",
      "True\n"
     ]
    }
   ],
   "source": [
    "int_to_float = float(data_int)\n",
    "int_to_string = str(data_int)\n",
    "int_to_bool = bool(data_int)\n",
    "\n",
    "print(\"Nilai variabel data int=\",data_int)\n",
    "print(int_to_float)\n",
    "print(int_to_string)\n",
    "print(int_to_bool)"
   ]
  },
  {
   "cell_type": "code",
   "execution_count": 14,
   "id": "504ee0ab",
   "metadata": {},
   "outputs": [
    {
     "name": "stdout",
     "output_type": "stream",
     "text": [
      "Nilai variabel data_float= 100.9\n",
      "100.9\n",
      "100.9\n",
      "True\n"
     ]
    }
   ],
   "source": [
    "float_to_int = float(data_float)\n",
    "float_to_string = str(data_float)\n",
    "float_to_bool = bool(data_float)\n",
    "\n",
    "print(\"Nilai variabel data_float\",data_float)\n",
    "print(float_to_int)\n",
    "print(float_to_string)\n",
    "print(float_to_bool)"
   ]
  },
  {
   "cell_type": "code",
   "execution_count": 16,
   "id": "d5c6baa5",
   "metadata": {},
   "outputs": [
    {
     "name": "stdout",
     "output_type": "stream",
     "text": [
      "Nilai variabel data_string= 1\n",
      "1\n",
      "1.0\n",
      "True\n"
     ]
    }
   ],
   "source": [
    "string_to_int = int(data_string)\n",
    "string_to_float = float(data_string)\n",
    "string_to_bool = bool(data_string)\n",
    "\n",
    "print(\"Nilai variabel data_string=\",data_string)\n",
    "print(string_to_int)\n",
    "print(string_to_float)\n",
    "print(string_to_bool)"
   ]
  },
  {
   "cell_type": "code",
   "execution_count": 18,
   "id": "95f78906",
   "metadata": {},
   "outputs": [
    {
     "name": "stdout",
     "output_type": "stream",
     "text": [
      "Nilai variabel data_bool= True\n",
      "1\n",
      "1.0\n",
      "True\n"
     ]
    }
   ],
   "source": [
    "bool_to_int = int(data_bool)\n",
    "bool_to_float = float(data_bool)\n",
    "bool_to_string = str(data_bool)\n",
    "\n",
    "print(\"Nilai variabel data_bool=\",data_bool)\n",
    "print(bool_to_int)\n",
    "print(bool_to_float)\n",
    "print(bool_to_string)"
   ]
  },
  {
   "cell_type": "code",
   "execution_count": 24,
   "id": "314229f1",
   "metadata": {},
   "outputs": [
    {
     "name": "stdout",
     "output_type": "stream",
     "text": [
      "isikan bilangan 1=:2\n",
      "isikan bilangan 2=:3\n",
      "Hasil penjumlahan 5\n",
      "Hasil pembagian 0.6666666666666666\n",
      "Hasil perkalian 6\n"
     ]
    }
   ],
   "source": [
    "bil1 = int(input(\"isikan bilangan 1=:\"))\n",
    "bil2 = int(input(\"isikan bilangan 2=:\"))\n",
    "hasil_tambah = bil1 + bil2\n",
    "hasil_bagi = bil1 / bil2\n",
    "hasil_perkalian = bil1 * bil2\n",
    "print(\"Hasil penjumlahan\",hasil_tambah)\n",
    "print(\"Hasil pembagian\",hasil_bagi)\n",
    "print(\"Hasil perkalian\",hasil_perkalian)"
   ]
  },
  {
   "cell_type": "code",
   "execution_count": null,
   "id": "fbe7e91a",
   "metadata": {},
   "outputs": [],
   "source": []
  }
 ],
 "metadata": {
  "kernelspec": {
   "display_name": "Python 3 (ipykernel)",
   "language": "python",
   "name": "python3"
  },
  "language_info": {
   "codemirror_mode": {
    "name": "ipython",
    "version": 3
   },
   "file_extension": ".py",
   "mimetype": "text/x-python",
   "name": "python",
   "nbconvert_exporter": "python",
   "pygments_lexer": "ipython3",
   "version": "3.9.12"
  }
 },
 "nbformat": 4,
 "nbformat_minor": 5
}
